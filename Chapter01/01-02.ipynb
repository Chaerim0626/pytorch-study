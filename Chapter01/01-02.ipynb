{
 "cells": [
  {
   "cell_type": "code",
   "execution_count": 4,
   "metadata": {},
   "outputs": [
    {
     "data": {
      "text/plain": [
       "'3.8.1'"
      ]
     },
     "execution_count": 4,
     "metadata": {},
     "output_type": "execute_result"
    }
   ],
   "source": [
    "import nltk\n",
    "nltk.__version__"
   ]
  },
  {
   "cell_type": "code",
   "execution_count": 5,
   "metadata": {},
   "outputs": [
    {
     "name": "stdout",
     "output_type": "stream",
     "text": [
      "showing info https://raw.githubusercontent.com/nltk/nltk_data/gh-pages/index.xml\n"
     ]
    },
    {
     "data": {
      "text/plain": [
       "True"
      ]
     },
     "execution_count": 5,
     "metadata": {},
     "output_type": "execute_result"
    }
   ],
   "source": [
    "nltk.download()"
   ]
  },
  {
   "cell_type": "code",
   "execution_count": 6,
   "metadata": {},
   "outputs": [
    {
     "name": "stdout",
     "output_type": "stream",
     "text": [
      "Collecting konlpy\n",
      "  Downloading konlpy-0.6.0-py2.py3-none-any.whl.metadata (1.9 kB)\n",
      "Collecting JPype1>=0.7.0 (from konlpy)\n",
      "  Downloading JPype1-1.5.0-cp311-cp311-win_amd64.whl.metadata (5.0 kB)\n",
      "Collecting lxml>=4.1.0 (from konlpy)\n",
      "  Downloading lxml-5.2.2-cp311-cp311-win_amd64.whl.metadata (3.5 kB)\n",
      "Requirement already satisfied: numpy>=1.6 in c:\\users\\dasap\\anaconda3\\envs\\torch\\lib\\site-packages (from konlpy) (1.24.3)\n",
      "Requirement already satisfied: packaging in c:\\users\\dasap\\anaconda3\\envs\\torch\\lib\\site-packages (from JPype1>=0.7.0->konlpy) (24.0)\n",
      "Downloading konlpy-0.6.0-py2.py3-none-any.whl (19.4 MB)\n",
      "   ---------------------------------------- 0.0/19.4 MB ? eta -:--:--\n",
      "   ---------------------------------------- 0.0/19.4 MB 1.9 MB/s eta 0:00:11\n",
      "   - -------------------------------------- 0.7/19.4 MB 10.9 MB/s eta 0:00:02\n",
      "   -- ------------------------------------- 1.3/19.4 MB 14.1 MB/s eta 0:00:02\n",
      "   --- ------------------------------------ 1.6/19.4 MB 10.2 MB/s eta 0:00:02\n",
      "   --- ------------------------------------ 1.9/19.4 MB 9.3 MB/s eta 0:00:02\n",
      "   ------ --------------------------------- 3.3/19.4 MB 13.2 MB/s eta 0:00:02\n",
      "   --------- ------------------------------ 4.8/19.4 MB 16.3 MB/s eta 0:00:01\n",
      "   -------------- ------------------------- 6.8/19.4 MB 19.8 MB/s eta 0:00:01\n",
      "   ------------------ --------------------- 9.1/19.4 MB 24.3 MB/s eta 0:00:01\n",
      "   --------------------- ------------------ 10.5/19.4 MB 27.3 MB/s eta 0:00:01\n",
      "   ------------------------- -------------- 12.5/19.4 MB 40.9 MB/s eta 0:00:01\n",
      "   ------------------------------ --------- 14.6/19.4 MB 43.5 MB/s eta 0:00:01\n",
      "   ------------------------------------ --- 17.8/19.4 MB 46.7 MB/s eta 0:00:01\n",
      "   ---------------------------------------  19.4/19.4 MB 54.7 MB/s eta 0:00:01\n",
      "   ---------------------------------------- 19.4/19.4 MB 40.9 MB/s eta 0:00:00\n",
      "Downloading JPype1-1.5.0-cp311-cp311-win_amd64.whl (351 kB)\n",
      "   ---------------------------------------- 0.0/351.5 kB ? eta -:--:--\n",
      "   ---------------------------------------- 351.5/351.5 kB ? eta 0:00:00\n",
      "Downloading lxml-5.2.2-cp311-cp311-win_amd64.whl (3.8 MB)\n",
      "   ---------------------------------------- 0.0/3.8 MB ? eta -:--:--\n",
      "   ---------------------------------------  3.8/3.8 MB 122.5 MB/s eta 0:00:01\n",
      "   ---------------------------------------- 3.8/3.8 MB 81.0 MB/s eta 0:00:00\n",
      "Installing collected packages: lxml, JPype1, konlpy\n",
      "Successfully installed JPype1-1.5.0 konlpy-0.6.0 lxml-5.2.2\n"
     ]
    }
   ],
   "source": [
    "!pip install konlpy"
   ]
  },
  {
   "cell_type": "code",
   "execution_count": 8,
   "metadata": {},
   "outputs": [
    {
     "data": {
      "text/plain": [
       "'0.6.0'"
      ]
     },
     "execution_count": 8,
     "metadata": {},
     "output_type": "execute_result"
    }
   ],
   "source": [
    "import konlpy\n",
    "konlpy.__version__"
   ]
  },
  {
   "cell_type": "code",
   "execution_count": null,
   "metadata": {},
   "outputs": [],
   "source": []
  }
 ],
 "metadata": {
  "kernelspec": {
   "display_name": "torch",
   "language": "python",
   "name": "python3"
  },
  "language_info": {
   "codemirror_mode": {
    "name": "ipython",
    "version": 3
   },
   "file_extension": ".py",
   "mimetype": "text/x-python",
   "name": "python",
   "nbconvert_exporter": "python",
   "pygments_lexer": "ipython3",
   "version": "3.11.9"
  }
 },
 "nbformat": 4,
 "nbformat_minor": 2
}
