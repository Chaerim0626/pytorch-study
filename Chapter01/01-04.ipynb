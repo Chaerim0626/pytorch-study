{
 "cells": [
  {
   "cell_type": "markdown",
   "metadata": {},
   "source": [
    "# 01-04 Machine Learning Workflow\n",
    "\n",
    "#### 1) Acquisition(수집)\n",
    "- 기계에 학습시켜야 할 데잍어가 필요\n",
    "- 자연어 처리의 경우, 자연어 데이터를 말뭉치 or 코퍼스라 부르는데 코퍼스는 조사나 연구 목적에 의해 특정 도메인으로부터 수집된 텍스트 집합\n",
    "- 텍스트 데이터 파일의 형식은 txt, csv, xml 등 다양\n",
    "\n",
    "#### 2) Inspection and exploration (점검 및 탐색)\n",
    "- 데이터 구조 ,노이즈 데이터, 머신 러닝 적용을 위해 데이터를 어떻게 정제할 지 파악\n",
    "- 탐색적 데이터 분석 단계 (EDA) 라고 한다 .\n",
    "- 독립 변수, 종속 변수 ,변수 유형, 변수의 데이터 타입등을 점검해 데이터의 특징과 내재하는 구조적 관계를 알아내는 과정 \n",
    "- 시각화와 간단한 통계 테스트 진행 \n",
    "\n",
    "#### 3) Preprocessing and Clearning (전처리 및 정제)\n",
    "- 가장 까다로운 작업 중 하나인 데이터 전처리 과정\n",
    "- 토큰화, 정제, 정규화, 불용어 제거 등 포함\n",
    "- 다양한 라이브러리에 대한 지식 필요\n",
    "\n",
    "#### 4) Modeling and Training (모델링 및 훈련)\n",
    "- 머신러닝에 대한 코드를 작성하는 단계인 모델링 단계에 들어간다.\n",
    "- 전처리가 완료된 데이터를 머신 러닝 알고리즘을 통해 기계에 학습 \n",
    "- 데이터 중 일부는 테스트용으로 남겨두고 훈련용 데이터만 사용해 overfitting 방지\n",
    "- 최선은 훈련용, 검증용, 테스트용 데이터로 나누고 훈련용 데이터만 사용\n",
    "\n",
    "#### 5) Evaluation\n",
    "- 테스트용 데이터로 성능 평가\n",
    "\n",
    "#### 6) Deployment\n",
    "- 완성된 모델 배포\n"
   ]
  },
  {
   "cell_type": "markdown",
   "metadata": {},
   "source": [
    "# 01-05 Splitting Data\n",
    "- Supervised Learning\n",
    "- X_train, y_train, X_test, y_test로 스팸메일 분류"
   ]
  },
  {
   "cell_type": "code",
   "execution_count": 2,
   "metadata": {},
   "outputs": [
    {
     "name": "stdout",
     "output_type": "stream",
     "text": [
      "Collecting scikit-learn\n",
      "  Downloading scikit_learn-1.5.0-cp311-cp311-win_amd64.whl.metadata (11 kB)\n",
      "Requirement already satisfied: numpy>=1.19.5 in c:\\users\\dasap\\anaconda3\\envs\\torch\\lib\\site-packages (from scikit-learn) (1.24.3)\n",
      "Collecting scipy>=1.6.0 (from scikit-learn)\n",
      "  Downloading scipy-1.13.1-cp311-cp311-win_amd64.whl.metadata (60 kB)\n",
      "     ---------------------------------------- 0.0/60.6 kB ? eta -:--:--\n",
      "     --------------------------- ------------ 41.0/60.6 kB 2.0 MB/s eta 0:00:01\n",
      "     ---------------------------------------- 60.6/60.6 kB 1.1 MB/s eta 0:00:00\n",
      "Requirement already satisfied: joblib>=1.2.0 in c:\\users\\dasap\\anaconda3\\envs\\torch\\lib\\site-packages (from scikit-learn) (1.4.2)\n",
      "Collecting threadpoolctl>=3.1.0 (from scikit-learn)\n",
      "  Downloading threadpoolctl-3.5.0-py3-none-any.whl.metadata (13 kB)\n",
      "Downloading scikit_learn-1.5.0-cp311-cp311-win_amd64.whl (11.0 MB)\n",
      "   ---------------------------------------- 0.0/11.0 MB ? eta -:--:--\n",
      "   ---------------------------------------- 0.1/11.0 MB 1.1 MB/s eta 0:00:10\n",
      "   ---------------------------------------- 0.1/11.0 MB 1.6 MB/s eta 0:00:07\n",
      "    --------------------------------------- 0.2/11.0 MB 1.1 MB/s eta 0:00:10\n",
      "   -- ------------------------------------- 0.7/11.0 MB 3.7 MB/s eta 0:00:03\n",
      "   ---- ----------------------------------- 1.3/11.0 MB 5.3 MB/s eta 0:00:02\n",
      "   ----- ---------------------------------- 1.5/11.0 MB 5.2 MB/s eta 0:00:02\n",
      "   ------- -------------------------------- 2.1/11.0 MB 6.7 MB/s eta 0:00:02\n",
      "   -------- ------------------------------- 2.4/11.0 MB 6.7 MB/s eta 0:00:02\n",
      "   --------- ------------------------------ 2.7/11.0 MB 6.7 MB/s eta 0:00:02\n",
      "   -------------- ------------------------- 4.0/11.0 MB 8.9 MB/s eta 0:00:01\n",
      "   ---------------- ----------------------- 4.5/11.0 MB 9.0 MB/s eta 0:00:01\n",
      "   ---------------------- ----------------- 6.1/11.0 MB 11.1 MB/s eta 0:00:01\n",
      "   ------------------------ --------------- 6.8/11.0 MB 11.4 MB/s eta 0:00:01\n",
      "   -------------------------- ------------- 7.3/11.0 MB 11.7 MB/s eta 0:00:01\n",
      "   -------------------------- ------------- 7.3/11.0 MB 11.7 MB/s eta 0:00:01\n",
      "   -------------------------- ------------- 7.3/11.0 MB 11.7 MB/s eta 0:00:01\n",
      "   ----------------------------- ---------- 8.1/11.0 MB 10.4 MB/s eta 0:00:01\n",
      "   ------------------------------------- -- 10.3/11.0 MB 13.1 MB/s eta 0:00:01\n",
      "   ---------------------------------------- 11.0/11.0 MB 14.9 MB/s eta 0:00:00\n",
      "Downloading scipy-1.13.1-cp311-cp311-win_amd64.whl (46.2 MB)\n",
      "   ---------------------------------------- 0.0/46.2 MB ? eta -:--:--\n",
      "   - -------------------------------------- 1.5/46.2 MB 100.4 MB/s eta 0:00:01\n",
      "   - -------------------------------------- 2.1/46.2 MB 27.2 MB/s eta 0:00:02\n",
      "   -- ------------------------------------- 2.6/46.2 MB 20.5 MB/s eta 0:00:03\n",
      "   ---- ----------------------------------- 4.8/46.2 MB 27.9 MB/s eta 0:00:02\n",
      "   ------ --------------------------------- 7.0/46.2 MB 31.8 MB/s eta 0:00:02\n",
      "   -------- ------------------------------- 9.5/46.2 MB 35.7 MB/s eta 0:00:02\n",
      "   -------- ------------------------------- 10.4/46.2 MB 32.8 MB/s eta 0:00:02\n",
      "   --------- ------------------------------ 11.0/46.2 MB 32.7 MB/s eta 0:00:02\n",
      "   ---------- ----------------------------- 12.3/46.2 MB 32.7 MB/s eta 0:00:02\n",
      "   ------------ --------------------------- 14.8/46.2 MB 36.4 MB/s eta 0:00:01\n",
      "   -------------- ------------------------- 17.1/46.2 MB 36.4 MB/s eta 0:00:01\n",
      "   ------------------ --------------------- 21.4/46.2 MB 59.5 MB/s eta 0:00:01\n",
      "   -------------------- ------------------- 23.7/46.2 MB 65.6 MB/s eta 0:00:01\n",
      "   ----------------------- ---------------- 26.8/46.2 MB 72.6 MB/s eta 0:00:01\n",
      "   ------------------------- -------------- 29.2/46.2 MB 65.2 MB/s eta 0:00:01\n",
      "   --------------------------- ------------ 31.3/46.2 MB 54.4 MB/s eta 0:00:01\n",
      "   ------------------------------ --------- 34.9/46.2 MB 65.6 MB/s eta 0:00:01\n",
      "   --------------------------------- ------ 38.2/46.2 MB 65.6 MB/s eta 0:00:01\n",
      "   ------------------------------------ --- 41.7/46.2 MB 73.1 MB/s eta 0:00:01\n",
      "   ---------------------------------------  45.2/46.2 MB 72.6 MB/s eta 0:00:01\n",
      "   ---------------------------------------  46.2/46.2 MB 72.6 MB/s eta 0:00:01\n",
      "   ---------------------------------------- 46.2/46.2 MB 54.4 MB/s eta 0:00:00\n",
      "Downloading threadpoolctl-3.5.0-py3-none-any.whl (18 kB)\n",
      "Installing collected packages: threadpoolctl, scipy, scikit-learn\n",
      "Successfully installed scikit-learn-1.5.0 scipy-1.13.1 threadpoolctl-3.5.0\n",
      "Note: you may need to restart the kernel to use updated packages.\n"
     ]
    }
   ],
   "source": [
    "%pip install scikit-learn"
   ]
  },
  {
   "cell_type": "code",
   "execution_count": 3,
   "metadata": {},
   "outputs": [],
   "source": [
    "import pandas as pd \n",
    "import numpy as np \n",
    "from sklearn.model_selection import train_test_split"
   ]
  },
  {
   "cell_type": "markdown",
   "metadata": {},
   "source": [
    "## 1. X와 y 분리하기 \n",
    "### 1) zip 함수를 이용해 분리하기"
   ]
  },
  {
   "cell_type": "code",
   "execution_count": 4,
   "metadata": {},
   "outputs": [
    {
     "name": "stdout",
     "output_type": "stream",
     "text": [
      "X 데이터 : ('a', 'b', 'c')\n",
      "y 데이터 : (1, 2, 3)\n"
     ]
    }
   ],
   "source": [
    "sequences = [['a', 1], ['b', 2], ['c', 3]]\n",
    "X, y = zip(*sequences)\n",
    "print('X 데이터 :',X)\n",
    "print('y 데이터 :',y)"
   ]
  },
  {
   "cell_type": "markdown",
   "metadata": {},
   "source": [
    "### 2) 데이터 프레임을 이용해 분리"
   ]
  },
  {
   "cell_type": "code",
   "execution_count": 5,
   "metadata": {},
   "outputs": [
    {
     "data": {
      "text/html": [
       "<div>\n",
       "<style scoped>\n",
       "    .dataframe tbody tr th:only-of-type {\n",
       "        vertical-align: middle;\n",
       "    }\n",
       "\n",
       "    .dataframe tbody tr th {\n",
       "        vertical-align: top;\n",
       "    }\n",
       "\n",
       "    .dataframe thead th {\n",
       "        text-align: right;\n",
       "    }\n",
       "</style>\n",
       "<table border=\"1\" class=\"dataframe\">\n",
       "  <thead>\n",
       "    <tr style=\"text-align: right;\">\n",
       "      <th></th>\n",
       "      <th>메일 본문</th>\n",
       "      <th>스팸 메일 유무</th>\n",
       "    </tr>\n",
       "  </thead>\n",
       "  <tbody>\n",
       "    <tr>\n",
       "      <th>0</th>\n",
       "      <td>당신에게 드리는 마지막 혜택!</td>\n",
       "      <td>1</td>\n",
       "    </tr>\n",
       "    <tr>\n",
       "      <th>1</th>\n",
       "      <td>내일 뵐 수 있을지 확인 부탁드...</td>\n",
       "      <td>0</td>\n",
       "    </tr>\n",
       "    <tr>\n",
       "      <th>2</th>\n",
       "      <td>도연씨. 잘 지내시죠? 오랜만입...</td>\n",
       "      <td>0</td>\n",
       "    </tr>\n",
       "    <tr>\n",
       "      <th>3</th>\n",
       "      <td>(광고) AI로 주가를 예측할 수 있다!</td>\n",
       "      <td>1</td>\n",
       "    </tr>\n",
       "  </tbody>\n",
       "</table>\n",
       "</div>"
      ],
      "text/plain": [
       "                    메일 본문  스팸 메일 유무\n",
       "0        당신에게 드리는 마지막 혜택!         1\n",
       "1    내일 뵐 수 있을지 확인 부탁드...         0\n",
       "2    도연씨. 잘 지내시죠? 오랜만입...         0\n",
       "3  (광고) AI로 주가를 예측할 수 있다!         1"
      ]
     },
     "execution_count": 5,
     "metadata": {},
     "output_type": "execute_result"
    }
   ],
   "source": [
    "values = [['당신에게 드리는 마지막 혜택!', 1],\n",
    "['내일 뵐 수 있을지 확인 부탁드...', 0],\n",
    "['도연씨. 잘 지내시죠? 오랜만입...', 0],\n",
    "['(광고) AI로 주가를 예측할 수 있다!', 1]]\n",
    "columns = ['메일 본문', '스팸 메일 유무']\n",
    "df = pd.DataFrame(values, columns=columns)\n",
    "df"
   ]
  },
  {
   "cell_type": "code",
   "execution_count": 6,
   "metadata": {},
   "outputs": [],
   "source": [
    "X = df['메일 본문']\n",
    "y = df['스팸 메일 유무']"
   ]
  },
  {
   "cell_type": "code",
   "execution_count": 7,
   "metadata": {},
   "outputs": [
    {
     "data": {
      "text/plain": [
       "0          당신에게 드리는 마지막 혜택!\n",
       "1      내일 뵐 수 있을지 확인 부탁드...\n",
       "2      도연씨. 잘 지내시죠? 오랜만입...\n",
       "3    (광고) AI로 주가를 예측할 수 있다!\n",
       "Name: 메일 본문, dtype: object"
      ]
     },
     "execution_count": 7,
     "metadata": {},
     "output_type": "execute_result"
    }
   ],
   "source": [
    "X"
   ]
  },
  {
   "cell_type": "code",
   "execution_count": 8,
   "metadata": {},
   "outputs": [
    {
     "data": {
      "text/plain": [
       "0    1\n",
       "1    0\n",
       "2    0\n",
       "3    1\n",
       "Name: 스팸 메일 유무, dtype: int64"
      ]
     },
     "execution_count": 8,
     "metadata": {},
     "output_type": "execute_result"
    }
   ],
   "source": [
    "y"
   ]
  },
  {
   "cell_type": "markdown",
   "metadata": {},
   "source": [
    "### 3) Numpy를 이용해 분ㄹ ㅣ"
   ]
  },
  {
   "cell_type": "code",
   "execution_count": 9,
   "metadata": {},
   "outputs": [
    {
     "name": "stdout",
     "output_type": "stream",
     "text": [
      "전체 데이터 :\n",
      "[[ 0  1  2  3]\n",
      " [ 4  5  6  7]\n",
      " [ 8  9 10 11]\n",
      " [12 13 14 15]]\n"
     ]
    }
   ],
   "source": [
    "np_array = np.arange(0,16).reshape((4,4))\n",
    "print('전체 데이터 :')\n",
    "print(np_array)"
   ]
  },
  {
   "cell_type": "code",
   "execution_count": 10,
   "metadata": {},
   "outputs": [
    {
     "name": "stdout",
     "output_type": "stream",
     "text": [
      "X 데이터 :\n",
      "[[ 0  1  2]\n",
      " [ 4  5  6]\n",
      " [ 8  9 10]\n",
      " [12 13 14]]\n",
      "y 데이터 : [ 3  7 11 15]\n"
     ]
    }
   ],
   "source": [
    "# 마지막 열이 정답 데이터\n",
    "X = np_array[:, :3]\n",
    "y = np_array[:,3]\n",
    "\n",
    "print('X 데이터 :')\n",
    "print(X)\n",
    "print('y 데이터 :',y)"
   ]
  },
  {
   "cell_type": "markdown",
   "metadata": {},
   "source": [
    "## 3) 테스트 데이터 분리하기 \n",
    "### 1) 사이킷 런을 이용해 분리 "
   ]
  },
  {
   "cell_type": "code",
   "execution_count": 11,
   "metadata": {},
   "outputs": [],
   "source": [
    "X_train, X_test, y_train, y_test = train_test_split(X, y, test_size= 0.2, random_state=1234)"
   ]
  },
  {
   "cell_type": "code",
   "execution_count": 12,
   "metadata": {},
   "outputs": [
    {
     "name": "stdout",
     "output_type": "stream",
     "text": [
      "X 전체 데이터 :\n",
      "[[0 1]\n",
      " [2 3]\n",
      " [4 5]\n",
      " [6 7]\n",
      " [8 9]]\n",
      "y 전체 데이터 :\n",
      "[0, 1, 2, 3, 4]\n"
     ]
    }
   ],
   "source": [
    "# 임의로 X와 y 데이터를 생성\n",
    "X, y = np.arange(10).reshape((5, 2)), range(5)\n",
    "\n",
    "print('X 전체 데이터 :')\n",
    "print(X)\n",
    "print('y 전체 데이터 :')\n",
    "print(list(y))"
   ]
  },
  {
   "cell_type": "code",
   "execution_count": 13,
   "metadata": {},
   "outputs": [],
   "source": [
    "# 7:3의 비율로 훈련 데이터와 테스트 데이터 분리\n",
    "X_train, X_test, y_train, y_test = train_test_split(X, y, test_size=0.3, random_state=1234)"
   ]
  },
  {
   "cell_type": "code",
   "execution_count": 15,
   "metadata": {},
   "outputs": [
    {
     "name": "stdout",
     "output_type": "stream",
     "text": [
      "X 훈련 데이터 :\n",
      "[[2 3]\n",
      " [4 5]\n",
      " [6 7]]\n",
      "X 테스트 데이터 :\n",
      "[[8 9]\n",
      " [0 1]]\n"
     ]
    }
   ],
   "source": [
    "print('X 훈련 데이터 :')\n",
    "print(X_train)\n",
    "print('X 테스트 데이터 :')\n",
    "print(X_test)"
   ]
  },
  {
   "cell_type": "code",
   "execution_count": 16,
   "metadata": {},
   "outputs": [
    {
     "name": "stdout",
     "output_type": "stream",
     "text": [
      "y 훈련 데이터 :\n",
      "[1, 2, 3]\n",
      "y 테스트 데이터 :\n",
      "[4, 0]\n"
     ]
    }
   ],
   "source": [
    "print('y 훈련 데이터 :')\n",
    "print(y_train)\n",
    "print('y 테스트 데이터 :')\n",
    "print(y_test)"
   ]
  },
  {
   "cell_type": "code",
   "execution_count": 17,
   "metadata": {},
   "outputs": [
    {
     "name": "stdout",
     "output_type": "stream",
     "text": [
      "y 훈련 데이터 :\n",
      "[4, 0, 3]\n",
      "y 테스트 데이터 :\n",
      "[2, 1]\n"
     ]
    }
   ],
   "source": [
    "# random_state의 값을 변경\n",
    "X_train, X_test, y_train, y_test = train_test_split(X, y, test_size=0.3, random_state=1)\n",
    "\n",
    "print('y 훈련 데이터 :')\n",
    "print(y_train)\n",
    "print('y 테스트 데이터 :')\n",
    "print(y_test)"
   ]
  },
  {
   "cell_type": "code",
   "execution_count": 18,
   "metadata": {},
   "outputs": [
    {
     "name": "stdout",
     "output_type": "stream",
     "text": [
      "y 훈련 데이터 :\n",
      "[1, 2, 3]\n",
      "y 테스트 데이터 :\n",
      "[4, 0]\n"
     ]
    }
   ],
   "source": [
    "# random_state을 이전의 값이었던 1234로 변경\n",
    "X_train, X_test, y_train, y_test = train_test_split(X, y, test_size=0.3, random_state=1234)\n",
    "\n",
    "print('y 훈련 데이터 :')\n",
    "print(y_train)\n",
    "print('y 테스트 데이터 :')\n",
    "print(y_test)"
   ]
  },
  {
   "cell_type": "markdown",
   "metadata": {},
   "source": []
  }
 ],
 "metadata": {
  "kernelspec": {
   "display_name": "torch",
   "language": "python",
   "name": "python3"
  },
  "language_info": {
   "codemirror_mode": {
    "name": "ipython",
    "version": 3
   },
   "file_extension": ".py",
   "mimetype": "text/x-python",
   "name": "python",
   "nbconvert_exporter": "python",
   "pygments_lexer": "ipython3",
   "version": "3.11.9"
  }
 },
 "nbformat": 4,
 "nbformat_minor": 2
}
